{
 "cells": [
  {
   "cell_type": "markdown",
   "metadata": {},
   "source": [
    "### Import Required Libraries and Set Up Environment Variables"
   ]
  },
  {
   "cell_type": "code",
   "execution_count": null,
   "metadata": {},
   "outputs": [],
   "source": [
    "# Dependencies\n",
    "import requests\n",
    "import time\n",
    "from dotenv import load_dotenv\n",
    "import os\n",
    "import pandas as pd\n",
    "import json\n",
    "from pandas import json_normalize\n"
   ]
  },
  {
   "cell_type": "code",
   "execution_count": null,
   "metadata": {},
   "outputs": [],
   "source": [
    "# Set environment variables from the .env in the local environment\n",
    "load_dotenv(\"myexample.env\")\n",
    "\n",
    "nyt_api_key = os.getenv(\"NYT_API_KEY\")\n",
    "tmdb_api_key = os.getenv(\"TMDB_API_KEY\")\n",
    "\n",
    "tmdb_api_key\n",
    "\n"
   ]
  },
  {
   "cell_type": "markdown",
   "metadata": {},
   "source": [
    "### Access the New York Times API"
   ]
  },
  {
   "cell_type": "code",
   "execution_count": null,
   "metadata": {},
   "outputs": [],
   "source": [
    "# Set the base URL\n",
    "url = \"https://api.nytimes.com/svc/search/v2/articlesearch.json?\"\n",
    "\n",
    "# Filter for movie reviews with \"love\" in the headline\n",
    "# section_name should be \"Movies\"\n",
    "# type_of_material should be \"Review\"\n",
    "filter_query = 'section_name:\"Movies\" AND type_of_material:\"Review\" AND headline:\"love\"'\n",
    "\n",
    "# Use a sort filter, sort by newest\n",
    "sort = \"newest\"\n",
    "\n",
    "# Select the following fields to return:\n",
    "# headline, web_url, snippet, source, keywords, pub_date, byline, word_count\n",
    "field_list = \"headline,web_url,snippet,source,keywords,pub_date,byline,word_count\"\n",
    "\n",
    "# Search for reviews published between a begin and end date\n",
    "begin_date = \"20130101\"\n",
    "end_date = \"20230531\"\n",
    "\n",
    "# Build URL\n",
    "nyt_api_url = f\"{url}fq={filter_query}&fl={field_list}&begin_date={begin_date}&end_date{end_date}&sort={sort}&api-key={nyt_api_key}\"\n",
    "\n"
   ]
  },
  {
   "cell_type": "code",
   "execution_count": null,
   "metadata": {},
   "outputs": [],
   "source": [
    "# Create an empty list to store the reviews\n",
    "reviews_list  = []\n",
    "\n",
    "# loop through pages 0-19\n",
    "\n",
    "    # create query with a page number\n",
    "    # API results show 10 articles at a time\n",
    " # loop through the reviews[\"response\"][\"docs\"] and append each review to the list\n",
    "for pageid in range(0, 20):    \n",
    "        # Make a \"GET\" request and retrieve the JSON\n",
    "        reviews = requests.get(nyt_api_url + \"&page=\" + str(pageid)).json()\n",
    "        # Print the page that was just retrieved\n",
    "        print(f\"Checked page {pageid}\")\n",
    "        # Add a twelve second interval between queries to stay within API query limits\n",
    "        time.sleep(12)\n",
    "        try:\n",
    "            # Try and save the reviews to the reviews_list\n",
    "            for review in reviews[\"response\"][\"docs\"]:\n",
    "                reviews_list.append(review)               \n",
    "        except:\n",
    "            print(f\"No data found for the page {pageid}\")\n",
    "      \n",
    "\n",
    "  \n"
   ]
  },
  {
   "cell_type": "code",
   "execution_count": null,
   "metadata": {},
   "outputs": [],
   "source": [
    "# Preview the first 5 results in JSON format\n",
    "# Use json.dumps with argument indent=4 to format data\n",
    "print(json.dumps(reviews_list[:5],indent=4))\n"
   ]
  },
  {
   "cell_type": "code",
   "execution_count": null,
   "metadata": {},
   "outputs": [],
   "source": [
    "# Convert reviews_list to a Pandas DataFrame using json_normalize()\n",
    "reviews_df = json_normalize(reviews_list)\n",
    "reviews_df.head()\n"
   ]
  },
  {
   "cell_type": "code",
   "execution_count": null,
   "metadata": {},
   "outputs": [],
   "source": [
    "# Extract the title from the \"headline.main\" column and\n",
    "# save it to a new column \"title\"\n",
    "# Title is between unicode characters \\u2018 and \\u2019. \n",
    "# End string should include \" Review\" to avoid cutting title early\n",
    "reviews_df[\"title\"] = reviews_df[\"headline.main\"].str.extract(r'\\u2018(.*?)\\u2019')\n",
    "reviews_df.head()"
   ]
  },
  {
   "cell_type": "code",
   "execution_count": null,
   "metadata": {},
   "outputs": [],
   "source": [
    "# Extract 'name' and 'value' from items in \"keywords\" column\n",
    "def extract_keywords(keyword_list):\n",
    "    extracted_keywords = \"\"\n",
    "    #keyword_list = keyword_list_Str.tolist()\n",
    "    for item in keyword_list:\n",
    "        # Extract 'name' and 'value'\n",
    "        keyword = f\"{item['name']}: {item['value']};\" \n",
    "        # Append the keyword item to the extracted_keywords list\n",
    "        extracted_keywords += keyword\n",
    "    return extracted_keywords\n",
    "\n",
    "\n",
    "reviews_df[\"keywords\"] = reviews_df[\"keywords\"].apply(extract_keywords)\n",
    "\n",
    "reviews_df.head()"
   ]
  },
  {
   "cell_type": "code",
   "execution_count": null,
   "metadata": {
    "scrolled": true
   },
   "outputs": [],
   "source": [
    "# Create a list from the \"title\" column using to_list()\n",
    "# These titles will be used in the query for The Movie Database\n",
    "titles  = reviews_df[\"title\"].to_list()\n",
    "titles "
   ]
  },
  {
   "cell_type": "markdown",
   "metadata": {},
   "source": [
    "### Access The Movie Database API"
   ]
  },
  {
   "cell_type": "code",
   "execution_count": null,
   "metadata": {},
   "outputs": [],
   "source": [
    "# Prepare The Movie Database query\n",
    "url = \"https://api.themoviedb.org/3/search/movie?query=\"\n",
    "tmdb_key_string = \"&api_key=\" + tmdb_api_key\n",
    "tmdb_key_string_id = \"?api_key=\" + tmdb_api_key"
   ]
  },
  {
   "cell_type": "code",
   "execution_count": null,
   "metadata": {},
   "outputs": [],
   "source": [
    "# Create an empty list to store the results\n",
    "tmdb_movies_list  = []\n",
    "request_counter  = 1\n",
    "movie_byid_api =  \"https://api.themoviedb.org/3/movie/\"\n",
    "tmdb_dec = {}\n",
    "\n",
    "#funcation to get movie id \n",
    "def get_movie_id(title):\n",
    "  try:\n",
    "    movieID = 0\n",
    "    movie_api_url = f\"{url}{title}{tmdb_key_string}\"\n",
    "    movie_response = requests.get(movie_api_url).json()\n",
    "    movieID = movie_response[\"results\"][0]['id']\n",
    "    return movieID\n",
    "  except:\n",
    "    print(f\"Movie not found :  {title}\")  \n",
    "  finally:\n",
    "    return movieID\n",
    "  \n",
    "#funcation to get movie details \n",
    "def get_movie_details(id):\n",
    "  movie_byid_url = f\"{movie_byid_api}{movie_id}{tmdb_key_string_id}\"\n",
    "  response = requests.get(movie_byid_url).json()\n",
    "  return response\n",
    "  \n",
    "# Loop through the titles\n",
    "for title in titles:\n",
    "  # Create a request counter to sleep the requests after a multiple of 50 requests\n",
    "  if request_counter == 50:\n",
    "     time.sleep(10)\n",
    "\n",
    "  # Get movie id\n",
    "  movie_id =  get_movie_id(title)\n",
    "  \n",
    "  if(movie_id > 0):\n",
    "    try:\n",
    "      # Make a request for a the full movie details\n",
    "      movie_detail =  get_movie_details(movie_id)\n",
    "      # Extract the genre names into a list\n",
    "      genres = [genre['name'] for genre in movie_detail['genres']]\n",
    "      # Extract the spoken_languages' English name into a list\n",
    "      spoken_languages= [production_countries['name'] for production_countries in movie_detail['production_countries']]\n",
    "      # Extract the production_countries' name into a list\n",
    "      production_countries = [spoken_languages['name'] for spoken_languages in movie_detail['spoken_languages']]\n",
    "      # Add the relevant data to a dictionary \n",
    "      movie_info = {\n",
    "        \"title\": movie_detail[\"title\"],\n",
    "        \"original_title\": movie_detail[\"original_title\"],\n",
    "        \"budget\": movie_detail[\"budget\"],\n",
    "        \"original_language\": movie_detail[\"original_language\"],\n",
    "        \"homepage\": movie_detail[\"homepage\"],\n",
    "        \"overview\": movie_detail[\"overview\"],\n",
    "        \"popularity\": movie_detail[\"popularity\"],\n",
    "        \"runtime\": movie_detail[\"runtime\"],\n",
    "        \"revenue\": movie_detail[\"revenue\"],\n",
    "        \"release_date\": movie_detail[\"release_date\"],\n",
    "        \"vote_average\": movie_detail[\"vote_average\"],\n",
    "        \"vote_count\": movie_detail[\"vote_count\"],\n",
    "        \"genres\": genres,\n",
    "        \"spoken_languages\": spoken_languages,\n",
    "        \"production_countries\": production_countries\n",
    "      }\n",
    "       # append it to the tmdb_movies_list list\n",
    "      tmdb_movies_list.append(movie_info)\n",
    "       # Print out the title that was found\n",
    "      print(f\"Moview found: {title}\")\n",
    "      request_counter += request_counter\n",
    "    except:\n",
    "      print(\"Error retriving movie details for {title}\")\n",
    "    # Create a request counter to sleep the requests after a multiple\n",
    "    # of 50 requests\n",
    "  \n",
    "\n",
    "\n"
   ]
  },
  {
   "cell_type": "code",
   "execution_count": null,
   "metadata": {},
   "outputs": [],
   "source": [
    "# Preview the first 5 results in JSON format\n",
    "# Use json.dumps with argument indent=4 to format data\n",
    "json_results = json.dumps(tmdb_movies_list[:5], indent=4)\n",
    "print(json_results)"
   ]
  },
  {
   "cell_type": "code",
   "execution_count": null,
   "metadata": {},
   "outputs": [],
   "source": [
    "# Convert the results to a DataFrame\n",
    "tmdb_movies_df =  json_normalize(tmdb_movies_list)\n",
    "tmdb_movies_df.head()"
   ]
  },
  {
   "cell_type": "markdown",
   "metadata": {},
   "source": [
    "### Merge and Clean the Data for Export"
   ]
  },
  {
   "cell_type": "code",
   "execution_count": null,
   "metadata": {
    "scrolled": true
   },
   "outputs": [],
   "source": [
    "# Merge the New York Times reviews and TMDB DataFrames on title\n",
    "reviews_df['title_lower'] = reviews_df['title'].str.lower()\n",
    "tmdb_movies_df['title_lower'] = tmdb_movies_df['title'].str.lower()\n",
    "merged_df = pd.merge(reviews_df, tmdb_movies_df, on=\"title_lower\", how=\"inner\",)\n",
    "merged_df.head(5)\n",
    "merged_df.columns\n"
   ]
  },
  {
   "cell_type": "code",
   "execution_count": null,
   "metadata": {},
   "outputs": [],
   "source": [
    "# Remove list brackets and quotation marks on the columns containing lists\n",
    "# Create a list of the columns that need fixingcolumn\n",
    "columns_to_fix = ['genres','spoken_languages','production_countries']\n",
    "\n",
    "# Create a list of characters to remove\n",
    "characters_to_remove = ['[',']','\\'']\n",
    "\n",
    "# Loop through the list of columns to fix\n",
    "for column in columns_to_fix:\n",
    "    # Convert the column to type 'str'\n",
    "    merged_df[column] = merged_df[column].astype(str)\n",
    "    # Loop through characters to remove\n",
    "    for char in characters_to_remove:\n",
    "        merged_df[column] = merged_df[column].str.replace(char,'')\n",
    "        \n",
    "# Display the fixed DataFrame\n",
    "merged_df"
   ]
  },
  {
   "cell_type": "code",
   "execution_count": null,
   "metadata": {},
   "outputs": [],
   "source": [
    "# Drop \"byline.person\" column\n",
    "merged_df = merged_df.drop(columns=['byline.person','title_lower'])\n",
    "merged_df.info()"
   ]
  },
  {
   "cell_type": "code",
   "execution_count": null,
   "metadata": {},
   "outputs": [],
   "source": [
    "# Delete duplicate rows and reset index\n",
    "merged_df = merged_df.drop_duplicates().reset_index(drop=True)\n",
    "merged_df"
   ]
  },
  {
   "cell_type": "code",
   "execution_count": null,
   "metadata": {},
   "outputs": [],
   "source": [
    "# Export data to CSV without the index\n",
    "merged_df.to_csv('movie_mereged_data.csv',index=False)"
   ]
  },
  {
   "cell_type": "code",
   "execution_count": null,
   "metadata": {},
   "outputs": [],
   "source": []
  }
 ],
 "metadata": {
  "kernelspec": {
   "display_name": "dev",
   "language": "python",
   "name": "dev"
  },
  "language_info": {
   "codemirror_mode": {
    "name": "ipython",
    "version": 3
   },
   "file_extension": ".py",
   "mimetype": "text/x-python",
   "name": "python",
   "nbconvert_exporter": "python",
   "pygments_lexer": "ipython3",
   "version": "3.10.13"
  },
  "varInspector": {
   "cols": {
    "lenName": 16,
    "lenType": 16,
    "lenVar": 40
   },
   "kernels_config": {
    "python": {
     "delete_cmd_postfix": "",
     "delete_cmd_prefix": "del ",
     "library": "var_list.py",
     "varRefreshCmd": "print(var_dic_list())"
    },
    "r": {
     "delete_cmd_postfix": ") ",
     "delete_cmd_prefix": "rm(",
     "library": "var_list.r",
     "varRefreshCmd": "cat(var_dic_list()) "
    }
   },
   "types_to_exclude": [
    "module",
    "function",
    "builtin_function_or_method",
    "instance",
    "_Feature"
   ],
   "window_display": false
  }
 },
 "nbformat": 4,
 "nbformat_minor": 2
}
